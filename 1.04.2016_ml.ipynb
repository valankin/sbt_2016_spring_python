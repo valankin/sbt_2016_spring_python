{
 "metadata": {
  "name": "",
  "signature": "sha256:1625e27cd9ecd065034947f99ac41823691e1ef6970a7018863abcee9b42db28"
 },
 "nbformat": 3,
 "nbformat_minor": 0,
 "worksheets": [
  {
   "cells": [
    {
     "cell_type": "code",
     "collapsed": false,
     "input": [
      "import sklearn.datasets as ds"
     ],
     "language": "python",
     "metadata": {},
     "outputs": [],
     "prompt_number": 2
    },
    {
     "cell_type": "code",
     "collapsed": false,
     "input": [
      "digits = ds.load_digits()"
     ],
     "language": "python",
     "metadata": {},
     "outputs": [],
     "prompt_number": 3
    },
    {
     "cell_type": "code",
     "collapsed": false,
     "input": [
      "data = digits.data\n",
      "target = digits.target\n",
      "len(data[0])"
     ],
     "language": "python",
     "metadata": {},
     "outputs": [
      {
       "metadata": {},
       "output_type": "pyout",
       "prompt_number": 27,
       "text": [
        "64"
       ]
      }
     ],
     "prompt_number": 27
    },
    {
     "cell_type": "markdown",
     "metadata": {},
     "source": [
      "#Bagging\n",
      "#1"
     ]
    },
    {
     "cell_type": "code",
     "collapsed": false,
     "input": [
      "import sklearn.cross_validation as cv"
     ],
     "language": "python",
     "metadata": {},
     "outputs": [],
     "prompt_number": 7
    },
    {
     "cell_type": "code",
     "collapsed": false,
     "input": [
      "from sklearn.tree import DecisionTreeClassifier"
     ],
     "language": "python",
     "metadata": {},
     "outputs": [],
     "prompt_number": 15
    },
    {
     "cell_type": "code",
     "collapsed": false,
     "input": [
      "model = DecisionTreeClassifier()\n",
      "cv.cross_val_score(model, data, target, cv=10).mean()"
     ],
     "language": "python",
     "metadata": {},
     "outputs": [
      {
       "metadata": {},
       "output_type": "pyout",
       "prompt_number": 19,
       "text": [
        "0.82753008069849388"
       ]
      }
     ],
     "prompt_number": 19
    },
    {
     "cell_type": "markdown",
     "metadata": {},
     "source": [
      "#2"
     ]
    },
    {
     "cell_type": "code",
     "collapsed": false,
     "input": [
      "from sklearn.ensemble import BaggingClassifier \n",
      "bc = BaggingClassifier(DecisionTreeClassifier(),n_estimators=100)\n",
      "cv.cross_val_score(bc, data, target, cv=10).mean()"
     ],
     "language": "python",
     "metadata": {},
     "outputs": [
      {
       "metadata": {},
       "output_type": "pyout",
       "prompt_number": 24,
       "text": [
        "0.92487735707756813"
       ]
      }
     ],
     "prompt_number": 24
    },
    {
     "cell_type": "markdown",
     "metadata": {},
     "source": [
      "#3"
     ]
    },
    {
     "cell_type": "code",
     "collapsed": false,
     "input": [
      "bc = BaggingClassifier(DecisionTreeClassifier(),n_estimators=100, max_features= 8)\n",
      "cv.cross_val_score(bc, data, target, cv=10).mean()"
     ],
     "language": "python",
     "metadata": {},
     "outputs": [
      {
       "metadata": {},
       "output_type": "pyout",
       "prompt_number": 29,
       "text": [
        "0.93325431681883908"
       ]
      }
     ],
     "prompt_number": 29
    },
    {
     "cell_type": "markdown",
     "metadata": {},
     "source": [
      "#4"
     ]
    },
    {
     "cell_type": "code",
     "collapsed": false,
     "input": [
      "bc = BaggingClassifier(DecisionTreeClassifier(max_features= 8),n_estimators=100)\n",
      "cv.cross_val_score(bc, data, target, cv=10).mean()"
     ],
     "language": "python",
     "metadata": {},
     "outputs": [
      {
       "metadata": {},
       "output_type": "pyout",
       "prompt_number": 31,
       "text": [
        "0.95002377668736471"
       ]
      }
     ],
     "prompt_number": 31
    },
    {
     "cell_type": "markdown",
     "metadata": {},
     "source": [
      "#Random Forest\n",
      "#1 - false"
     ]
    },
    {
     "cell_type": "code",
     "collapsed": false,
     "input": [
      "from sklearn.ensemble import RandomForestClassifier "
     ],
     "language": "python",
     "metadata": {},
     "outputs": [],
     "prompt_number": 36
    },
    {
     "cell_type": "code",
     "collapsed": false,
     "input": [
      "n=[10,100,200,300,500,1000]\n",
      "[cv.cross_val_score(RandomForestClassifier(n_estimators=item), data, target, cv=10).mean() for item in n]"
     ],
     "language": "python",
     "metadata": {},
     "outputs": [
      {
       "metadata": {},
       "output_type": "pyout",
       "prompt_number": 46,
       "text": [
        "[0.91823301079430952,\n",
        " 0.95334456943133239,\n",
        " 0.94947003567332422,\n",
        " 0.95277696240202325,\n",
        " 0.9550154184237849,\n",
        " 0.95501777687744871]"
       ]
      }
     ],
     "prompt_number": 46
    },
    {
     "cell_type": "markdown",
     "metadata": {},
     "source": [
      "#2 - true"
     ]
    },
    {
     "cell_type": "code",
     "collapsed": false,
     "input": [
      "n=[5,10,15, 20, 50]\n",
      "[cv.cross_val_score(RandomForestClassifier(n_estimators=item), data, target, cv=10).mean() for item in n]"
     ],
     "language": "python",
     "metadata": {},
     "outputs": [
      {
       "metadata": {},
       "output_type": "pyout",
       "prompt_number": 45,
       "text": [
        "[0.88476900769448341,\n",
        " 0.91889713690509711,\n",
        " 0.93052180214965874,\n",
        " 0.93218299483382283,\n",
        " 0.94613991357582061]"
       ]
      }
     ],
     "prompt_number": 45
    },
    {
     "cell_type": "markdown",
     "metadata": {},
     "source": [
      "#3 - true (\u0441\u043c \u043f\u043f 1 \u0438 2)\n",
      "#4 - true 5 - false"
     ]
    },
    {
     "cell_type": "code",
     "collapsed": false,
     "input": [
      "n=[5,10,15,20,50, 60, 64]\n",
      "[cv.cross_val_score(RandomForestClassifier(n_estimators=10,max_features=item ), data, target, cv=10).mean() for item in n]\n"
     ],
     "language": "python",
     "metadata": {},
     "outputs": [
      {
       "metadata": {},
       "output_type": "pyout",
       "prompt_number": 50,
       "text": [
        "[0.91664793144666734,\n",
        " 0.92317201029175477,\n",
        " 0.92383916236742825,\n",
        " 0.92657246932446768,\n",
        " 0.90655314253345298,\n",
        " 0.90887387432476818,\n",
        " 0.90766103793699782]"
       ]
      }
     ],
     "prompt_number": 50
    },
    {
     "cell_type": "markdown",
     "metadata": {},
     "source": [
      "#6 - false, 7 - true"
     ]
    },
    {
     "cell_type": "code",
     "collapsed": false,
     "input": [],
     "language": "python",
     "metadata": {},
     "outputs": []
    }
   ],
   "metadata": {}
  }
 ]
}