{
 "cells": [
  {
   "cell_type": "markdown",
   "metadata": {},
   "source": [
    "# 1    Python\n",
    "## 1."
   ]
  },
  {
   "cell_type": "markdown",
   "metadata": {},
   "source": [
    "В отличие от list, tuple является неизменяемой структурой. В list наиболее важен порядок элементов, тогда как tuple - структура. Поэтому list и tuple могут быть добавлены в set, но использован как ключ в dict может только tuple ."
   ]
  },
  {
   "cell_type": "code",
   "execution_count": 3,
   "metadata": {
    "collapsed": true
   },
   "outputs": [],
   "source": [
    "basket_t = ('apple', 'orange', 'apple', 'pear', 'orange', 'banana')\n",
    "basket_l = ['apple', 'orange', 'apple', 'pear', 'orange', 'banana']"
   ]
  },
  {
   "cell_type": "code",
   "execution_count": 4,
   "metadata": {
    "collapsed": false
   },
   "outputs": [
    {
     "name": "stdout",
     "output_type": "stream",
     "text": [
      "<type 'tuple'> <type 'list'>\n"
     ]
    }
   ],
   "source": [
    "print type(basket_t), type(basket_l)"
   ]
  },
  {
   "cell_type": "code",
   "execution_count": 5,
   "metadata": {
    "collapsed": false
   },
   "outputs": [
    {
     "name": "stdout",
     "output_type": "stream",
     "text": [
      "set(['orange', 'pear', 'apple', 'banana']) set(['orange', 'pear', 'apple', 'banana'])\n"
     ]
    }
   ],
   "source": [
    "set_l = set(basket_l)\n",
    "set_t = set(basket_t)\n",
    "print set_l,set_t"
   ]
  },
  {
   "cell_type": "markdown",
   "metadata": {},
   "source": [
    "Структура dict организована как hashtable(с поддержкой совпадения ключей)."
   ]
  },
  {
   "cell_type": "markdown",
   "metadata": {},
   "source": [
    "В python2 range() создает лист, тогда так xrange() создает объект:"
   ]
  },
  {
   "cell_type": "code",
   "execution_count": 6,
   "metadata": {
    "collapsed": false
   },
   "outputs": [
    {
     "name": "stdout",
     "output_type": "stream",
     "text": [
      "<type 'list'> <type 'xrange'>\n"
     ]
    }
   ],
   "source": [
    "print type(range(100)), type(xrange(100))"
   ]
  },
  {
   "cell_type": "markdown",
   "metadata": {},
   "source": [
    "Также, xrange()  не хранит элементы в памяти:"
   ]
  },
  {
   "cell_type": "code",
   "execution_count": 7,
   "metadata": {
    "collapsed": false
   },
   "outputs": [
    {
     "ename": "MemoryError",
     "evalue": "",
     "output_type": "error",
     "traceback": [
      "\u001b[1;31m---------------------------------------------------------------------------\u001b[0m",
      "\u001b[1;31mMemoryError\u001b[0m                               Traceback (most recent call last)",
      "\u001b[1;32m<ipython-input-7-e4a3b35ff94a>\u001b[0m in \u001b[0;36m<module>\u001b[1;34m()\u001b[0m\n\u001b[1;32m----> 1\u001b[1;33m \u001b[0mfoo\u001b[0m \u001b[1;33m=\u001b[0m \u001b[0mrange\u001b[0m\u001b[1;33m(\u001b[0m\u001b[1;36m10\u001b[0m\u001b[1;33m**\u001b[0m\u001b[1;36m10\u001b[0m\u001b[1;33m)\u001b[0m\u001b[1;33m\u001b[0m\u001b[0m\n\u001b[0m",
      "\u001b[1;31mMemoryError\u001b[0m: "
     ]
    }
   ],
   "source": [
    "foo = range(10**10)"
   ]
  },
  {
   "cell_type": "code",
   "execution_count": null,
   "metadata": {
    "collapsed": true
   },
   "outputs": [],
   "source": [
    "foo_kosher = xrange(10**10)"
   ]
  },
  {
   "cell_type": "markdown",
   "metadata": {},
   "source": [
    "что позволяет не крашится на большом количестве элементов."
   ]
  },
  {
   "cell_type": "markdown",
   "metadata": {},
   "source": [
    "List comprehension - краткий и наглядный способ создавать списки. Нпр [x**100500 for x in array if x%2 != 0] вернет массив нечетных элементов из array, возведенных в степень."
   ]
  },
  {
   "cell_type": "markdown",
   "metadata": {},
   "source": [
    "    Функции map и reduce работают как и в других нормальных языках: map поэлементно применяет к коллекции f(x), reduce попарно f(x,y): "
   ]
  },
  {
   "cell_type": "markdown",
   "metadata": {},
   "source": [
    "$$result = f(...(f(x_1,x_2),x_3)...,x_n)$$"
   ]
  },
  {
   "cell_type": "code",
   "execution_count": 8,
   "metadata": {
    "collapsed": false
   },
   "outputs": [
    {
     "name": "stdout",
     "output_type": "stream",
     "text": [
      "[0, 1, 4, 9, 16, 25, 36, 49, 64, 81, 100, 121, 144, 169, 196, 225, 256, 289, 324, 361, 400, 441, 484, 529, 576, 625, 676, 729, 784, 841, 900, 961, 1024, 1089, 1156, 1225, 1296, 1369, 1444, 1521, 1600, 1681, 1764, 1849, 1936, 2025, 2116, 2209, 2304, 2401, 2500, 2601, 2704, 2809, 2916, 3025, 3136, 3249, 3364, 3481, 3600, 3721, 3844, 3969, 4096, 4225, 4356, 4489, 4624, 4761, 4900, 5041, 5184, 5329, 5476, 5625, 5776, 5929, 6084, 6241, 6400, 6561, 6724, 6889, 7056, 7225, 7396, 7569, 7744, 7921, 8100, 8281, 8464, 8649, 8836, 9025, 9216, 9409, 9604, 9801]\n"
     ]
    }
   ],
   "source": [
    "print map(lambda x:x**2, range(100))"
   ]
  },
  {
   "cell_type": "code",
   "execution_count": 9,
   "metadata": {
    "collapsed": false
   },
   "outputs": [
    {
     "name": "stdout",
     "output_type": "stream",
     "text": [
      "4950 4950\n"
     ]
    }
   ],
   "source": [
    "print reduce(lambda x, y:x + y, range(100)), (100*99)/2"
   ]
  },
  {
   "cell_type": "markdown",
   "metadata": {},
   "source": [
    "## 2."
   ]
  },
  {
   "cell_type": "code",
   "execution_count": 10,
   "metadata": {
    "collapsed": false
   },
   "outputs": [],
   "source": [
    "import sys\n",
    "def fib(N):\n",
    "    return fib(N-2) + fib(N-1) if (N > 2)  else 1\n"
   ]
  },
  {
   "cell_type": "code",
   "execution_count": 11,
   "metadata": {
    "collapsed": false
   },
   "outputs": [
    {
     "data": {
      "text/plain": [
       "832040"
      ]
     },
     "execution_count": 11,
     "metadata": {},
     "output_type": "execute_result"
    }
   ],
   "source": [
    "fib(30)"
   ]
  },
  {
   "cell_type": "markdown",
   "metadata": {},
   "source": [
    "Для N = 40 время работы заметно возрастает"
   ]
  },
  {
   "cell_type": "code",
   "execution_count": 12,
   "metadata": {
    "collapsed": false
   },
   "outputs": [],
   "source": [
    "#sys.setrecursionlimit(5)\n",
    "#fib(30) #тут ноутбук умирает"
   ]
  },
  {
   "cell_type": "code",
   "execution_count": 19,
   "metadata": {
    "collapsed": true
   },
   "outputs": [],
   "source": [
    "#тру- формула\n",
    "def true_fib(N):\n",
    "    def f():\n",
    "        return (1+5**0.5)/2\n",
    "    return int((f()**N - (-f())**(-N))/(2.0*f() - 1))"
   ]
  },
  {
   "cell_type": "code",
   "execution_count": 23,
   "metadata": {
    "collapsed": false
   },
   "outputs": [
    {
     "name": "stdout",
     "output_type": "stream",
     "text": [
      "832040\n"
     ]
    }
   ],
   "source": [
    "print true_fib(30)"
   ]
  },
  {
   "cell_type": "markdown",
   "metadata": {},
   "source": [
    "## 3."
   ]
  },
  {
   "cell_type": "code",
   "execution_count": 106,
   "metadata": {
    "collapsed": true
   },
   "outputs": [],
   "source": [
    "import time                                                \n",
    " \n",
    "def timer(f):\n",
    "    def tmp(*args, **kwargs):\n",
    "        t = time.time()\n",
    "        res = f(*args, **kwargs)\n",
    "        print \"Время выполнения функции %s: %f\" % (str(f), (time.time()-t))\n",
    "        return res\n",
    "\n",
    "    return tmp"
   ]
  },
  {
   "cell_type": "code",
   "execution_count": 107,
   "metadata": {
    "collapsed": true
   },
   "outputs": [],
   "source": [
    "@timer\n",
    "def fib(N):\n",
    "    return fib(N-2) + fib(N-1) if (N > 2)  else 1\n",
    "\n",
    "@timer\n",
    "def true_fib(N):\n",
    "    def f():\n",
    "        return (1+5**0.5)/2\n",
    "    return int((f()**N - (-f())**(-N))/(2.0*f() - 1))"
   ]
  },
  {
   "cell_type": "code",
   "execution_count": 108,
   "metadata": {
    "collapsed": false
   },
   "outputs": [
    {
     "name": "stdout",
     "output_type": "stream",
     "text": [
      "Время выполнения функции <function true_fib at 0x7f753d6b7f50>: 0.000021\n"
     ]
    },
    {
     "data": {
      "text/plain": [
       "43466557686938914862637500386755014010958388901725051132915256476112292920052539720295234060457458057800732025086130975998716977051839168242483814062805283311821051327273518050882075662659534523370463746326528L"
      ]
     },
     "execution_count": 108,
     "metadata": {},
     "output_type": "execute_result"
    }
   ],
   "source": [
    "true_fib(1000)"
   ]
  },
  {
   "cell_type": "code",
   "execution_count": null,
   "metadata": {
    "collapsed": false
   },
   "outputs": [],
   "source": [
    "fib(10)"
   ]
  },
  {
   "cell_type": "markdown",
   "metadata": {},
   "source": [
    "## 4. , 5."
   ]
  },
  {
   "cell_type": "code",
   "execution_count": 53,
   "metadata": {
    "collapsed": false
   },
   "outputs": [
    {
     "name": "stdout",
     "output_type": "stream",
     "text": [
      "Overwriting my_doctest.py\n"
     ]
    }
   ],
   "source": [
    "%%writefile my_doctest.py\n",
    "#%%testmod\n",
    "\"\"\"\n",
    "This is the \"example\" module.\n",
    "\n",
    "The example module supplies one function, marg().  For example,\n",
    "\n",
    ">>> factorial(1,2)\n",
    "120\n",
    "\"\"\"\n",
    "def marg(re, img):\n",
    "    \"\"\" Returns tuple, containing module and\n",
    "    argument for given complex number.\n",
    "    \n",
    "    >>> [marg(n, n+ 3.14/n) for n in range(1,10)]\n",
    "    [(4.123105625617661, 1.3258176636680326), (4.031128874149275, 1.0516502125483738)]\n",
    "    \n",
    "    \"\"\"\n",
    "    import math\n",
    "    return (re**2 + img**2)**0.5, math.atan(img/re)\n",
    "\n",
    "if __name__ == \"__main__\":\n",
    "    import doctest\n",
    "    #print doctest.__file__\n",
    "    doctest.testmod()\n"
   ]
  },
  {
   "cell_type": "code",
   "execution_count": null,
   "metadata": {
    "collapsed": false
   },
   "outputs": [],
   "source": [
    "!python my_doctest.py -v"
   ]
  },
  {
   "cell_type": "code",
   "execution_count": 46,
   "metadata": {
    "collapsed": false
   },
   "outputs": [
    {
     "name": "stdout",
     "output_type": "stream",
     "text": [
      "(1.4142135623730951, 0.7853981633974483) <type 'tuple'>\n",
      "[(4.123105625617661, 1.3258176636680326), (4.031128874149275, 1.0516502125483738)]\n"
     ]
    }
   ],
   "source": [
    "print marg(1.,1.), type(marg(1., 1.))\n",
    "print [marg(n, n + 3./n) for n in range(1,3)]"
   ]
  },
  {
   "cell_type": "markdown",
   "metadata": {
    "collapsed": true
   },
   "source": [
    "## 6."
   ]
  },
  {
   "cell_type": "code",
   "execution_count": 77,
   "metadata": {
    "collapsed": false
   },
   "outputs": [
    {
     "name": "stdout",
     "output_type": "stream",
     "text": [
      "\n"
     ]
    }
   ],
   "source": [
    "import math\n",
    "class Complex:\n",
    "    def __init__(self, re, im):\n",
    "        self.re = re\n",
    "        self.im = im\n",
    "    def modulus(self):\n",
    "        return (self.re**2 + self.im**2)**0.5\n",
    "    def argument(self):\n",
    "        return math.atan(self.im/self.re) if self.re != 0 else 'not def'"
   ]
  },
  {
   "cell_type": "code",
   "execution_count": 80,
   "metadata": {
    "collapsed": false
   },
   "outputs": [
    {
     "name": "stdout",
     "output_type": "stream",
     "text": [
      "0 2 not def 2.0\n"
     ]
    }
   ],
   "source": [
    "c = Complex(0,2)\n",
    "print c.re, c.im, c.argument(), c.modulus()"
   ]
  },
  {
   "cell_type": "code",
   "execution_count": 81,
   "metadata": {
    "collapsed": false
   },
   "outputs": [
    {
     "name": "stdout",
     "output_type": "stream",
     "text": [
      "1 1 0.785398163397 1.41421356237\n"
     ]
    }
   ],
   "source": [
    "c = Complex(1,1)\n",
    "print c.re, c.im, c.argument(), c.modulus()"
   ]
  },
  {
   "cell_type": "markdown",
   "metadata": {
    "collapsed": true
   },
   "source": [
    " # 2 Requests/urllib + BeautifulSoup"
   ]
  },
  {
   "cell_type": "markdown",
   "metadata": {},
   "source": [
    "тут был бы копипаст из ноутбука с семинара"
   ]
  },
  {
   "cell_type": "markdown",
   "metadata": {},
   "source": [
    "# 3 Numpy"
   ]
  },
  {
   "cell_type": "code",
   "execution_count": 82,
   "metadata": {
    "collapsed": true
   },
   "outputs": [],
   "source": [
    "import numpy as np"
   ]
  },
  {
   "cell_type": "markdown",
   "metadata": {},
   "source": [
    "## 1."
   ]
  },
  {
   "cell_type": "code",
   "execution_count": 83,
   "metadata": {
    "collapsed": true
   },
   "outputs": [],
   "source": [
    "narr = np.ndarray(shape=(3,4,2), dtype=float, order='F')"
   ]
  },
  {
   "cell_type": "code",
   "execution_count": 84,
   "metadata": {
    "collapsed": false
   },
   "outputs": [
    {
     "data": {
      "text/plain": [
       "array([[[  6.92392115e-310,   6.92392188e-310],\n",
       "        [  6.92391054e-310,   6.92391053e-310],\n",
       "        [  6.92392192e-310,   6.92392192e-310],\n",
       "        [  6.92391053e-310,   6.92391053e-310]],\n",
       "\n",
       "       [[  1.30897910e-316,   6.92391053e-310],\n",
       "        [  6.92392188e-310,   6.92392188e-310],\n",
       "        [  6.92391054e-310,   6.92391054e-310],\n",
       "        [  6.92392192e-310,   6.92392192e-310]],\n",
       "\n",
       "       [[  6.92392192e-310,   6.92392192e-310],\n",
       "        [  6.92391053e-310,   6.92391053e-310],\n",
       "        [  6.92392188e-310,   6.92392188e-310],\n",
       "        [  6.92391891e-310,   6.92391888e-310]]])"
      ]
     },
     "execution_count": 84,
     "metadata": {},
     "output_type": "execute_result"
    }
   ],
   "source": [
    "narr"
   ]
  },
  {
   "cell_type": "code",
   "execution_count": 94,
   "metadata": {
    "collapsed": false
   },
   "outputs": [
    {
     "name": "stdout",
     "output_type": "stream",
     "text": [
      "[[  6.92392115e-310   6.92392188e-310]\n",
      " [  6.92391054e-310   6.92391053e-310]\n",
      " [  6.92392192e-310   6.92392192e-310]\n",
      " [  6.92391053e-310   6.92391053e-310]] \n",
      "######\n",
      "[  6.92392192e-310   6.92392192e-310] \n",
      "######\n",
      "[[  6.92392115e-310   6.92392188e-310]\n",
      " [  6.92391054e-310   6.92391053e-310]] \n",
      "######\n",
      "\n"
     ]
    }
   ],
   "source": [
    "print narr[0], \"\\n######\\n\",narr[0][2] , \"\\n######\\n\",narr[0][:2], \"\\n######\\n\""
   ]
  },
  {
   "cell_type": "code",
   "execution_count": 100,
   "metadata": {
    "collapsed": false
   },
   "outputs": [
    {
     "data": {
      "text/plain": [
       "array([[  6.92392115e-310,   6.92392188e-310],\n",
       "       [  6.92391054e-310,   6.92391053e-310],\n",
       "       [  6.92392192e-310,   6.92392192e-310],\n",
       "       [  6.92391053e-310,   6.92391053e-310],\n",
       "       [  6.92392188e-310,   6.92392188e-310],\n",
       "       [  6.92391054e-310,   6.92391054e-310],\n",
       "       [  6.92392192e-310,   6.92392192e-310],\n",
       "       [  6.92392192e-310,   6.92392192e-310],\n",
       "       [  6.92391053e-310,   6.92391053e-310],\n",
       "       [  6.92392188e-310,   6.92392188e-310],\n",
       "       [  6.92391891e-310,   6.92391888e-310]])"
      ]
     },
     "execution_count": 100,
     "metadata": {},
     "output_type": "execute_result"
    }
   ],
   "source": [
    "narr[narr.sum(-1) >= 1.12392115e-309, :]"
   ]
  },
  {
   "cell_type": "markdown",
   "metadata": {},
   "source": [
    "## 2."
   ]
  },
  {
   "cell_type": "code",
   "execution_count": 23,
   "metadata": {
    "collapsed": true
   },
   "outputs": [],
   "source": [
    "import time\n",
    "import math\n",
    "\n",
    "arr = [math.cos(x) for x in range(10**7)]\n",
    "\n",
    "narr = np.array(arr)"
   ]
  },
  {
   "cell_type": "code",
   "execution_count": 24,
   "metadata": {
    "collapsed": true
   },
   "outputs": [],
   "source": [
    " def timer(f):\n",
    "    def tmp(*args, **kwargs):\n",
    "        t = time.time()\n",
    "        res = f(*args, **kwargs)\n",
    "        print \"Время выполнения функции %s: %f\" % (str(f), (time.time()-t))\n",
    "        return res\n",
    "\n",
    "    return tmp\n",
    "\n",
    "@timer\n",
    "def timeit(arr):\n",
    "    return arr.sort()"
   ]
  },
  {
   "cell_type": "code",
   "execution_count": 131,
   "metadata": {
    "collapsed": false
   },
   "outputs": [
    {
     "name": "stdout",
     "output_type": "stream",
     "text": [
      "Время выполнения функции <function timeit at 0x7f7546f50e60>: 10.120733\n"
     ]
    }
   ],
   "source": [
    "timeit(arr)"
   ]
  },
  {
   "cell_type": "code",
   "execution_count": 132,
   "metadata": {
    "collapsed": false
   },
   "outputs": [
    {
     "name": "stdout",
     "output_type": "stream",
     "text": [
      "Время выполнения функции <function timeit at 0x7f7546f50e60>: 1.113189\n"
     ]
    }
   ],
   "source": [
    "timeit(narr)"
   ]
  },
  {
   "cell_type": "markdown",
   "metadata": {
    "collapsed": true
   },
   "source": [
    "## 3."
   ]
  },
  {
   "cell_type": "code",
   "execution_count": 32,
   "metadata": {
    "collapsed": true
   },
   "outputs": [],
   "source": [
    "import numpy as np"
   ]
  },
  {
   "cell_type": "code",
   "execution_count": 3,
   "metadata": {
    "collapsed": false
   },
   "outputs": [],
   "source": [
    "l = np.linspace(2,3,num=10)"
   ]
  },
  {
   "cell_type": "code",
   "execution_count": 5,
   "metadata": {
    "collapsed": false
   },
   "outputs": [
    {
     "name": "stdout",
     "output_type": "stream",
     "text": [
      "[ 2.          2.11111111  2.22222222  2.33333333  2.44444444  2.55555556\n",
      "  2.66666667  2.77777778  2.88888889  3.        ] \n",
      "<type 'numpy.ndarray'>\n"
     ]
    }
   ],
   "source": [
    "print l,'\\n', type(l)"
   ]
  },
  {
   "cell_type": "code",
   "execution_count": 25,
   "metadata": {
    "collapsed": false
   },
   "outputs": [],
   "source": [
    "@timer\n",
    "def my_linespace(start, end, num_partitions):\n",
    "    step = 1.0*(end - start)/num_partitions\n",
    "    \n",
    "    return [start+ step*x for x in range(0, num_partitions)]"
   ]
  },
  {
   "cell_type": "code",
   "execution_count": 26,
   "metadata": {
    "collapsed": false
   },
   "outputs": [
    {
     "name": "stdout",
     "output_type": "stream",
     "text": [
      "Время выполнения функции <function my_linespace at 0x7f1cd1f0b9b0>: 0.000023\n"
     ]
    }
   ],
   "source": [
    "my_l = my_linespace(2,3,10)"
   ]
  },
  {
   "cell_type": "code",
   "execution_count": 27,
   "metadata": {
    "collapsed": false
   },
   "outputs": [
    {
     "name": "stdout",
     "output_type": "stream",
     "text": [
      "[2.0, 2.1, 2.2, 2.3, 2.4, 2.5, 2.6, 2.7, 2.8, 2.9] \n",
      "<type 'list'>\n"
     ]
    }
   ],
   "source": [
    "print my_l,'\\n', type(my_l)"
   ]
  },
  {
   "cell_type": "code",
   "execution_count": 33,
   "metadata": {
    "collapsed": true
   },
   "outputs": [],
   "source": [
    "@timer\n",
    "def wrap_linespace(start,end,partitions):\n",
    "    l = np.linspace(start,end,num=partitions)\n",
    "    return l"
   ]
  },
  {
   "cell_type": "code",
   "execution_count": 36,
   "metadata": {
    "collapsed": false
   },
   "outputs": [
    {
     "name": "stdout",
     "output_type": "stream",
     "text": [
      "Время выполнения функции <function my_linespace at 0x7f1cd1f0b9b0>: 0.000029\n",
      "Время выполнения функции <function wrap_linespace at 0x7f1cd1efaed8>: 0.000057\n"
     ]
    }
   ],
   "source": [
    "my_l = my_linespace(2,3,10*9)\n",
    "np_l = wrap_linespace(2,3,10*9)"
   ]
  },
  {
   "cell_type": "markdown",
   "metadata": {},
   "source": [
    "linespace из numpy  примерно в 2 раза быстрее"
   ]
  },
  {
   "cell_type": "markdown",
   "metadata": {},
   "source": [
    "# 4 Matplotlib"
   ]
  },
  {
   "cell_type": "markdown",
   "metadata": {},
   "source": [
    "## 1."
   ]
  },
  {
   "cell_type": "markdown",
   "metadata": {},
   "source": [
    " %matplotlib inline - графики будут отображаться в блокноте"
   ]
  },
  {
   "cell_type": "markdown",
   "metadata": {},
   "source": [
    "## 2. 3."
   ]
  },
  {
   "cell_type": "code",
   "execution_count": 2,
   "metadata": {
    "collapsed": false
   },
   "outputs": [],
   "source": [
    "%matplotlib inline"
   ]
  },
  {
   "cell_type": "code",
   "execution_count": 3,
   "metadata": {
    "collapsed": true
   },
   "outputs": [],
   "source": [
    "import matplotlib.pyplot as plt"
   ]
  },
  {
   "cell_type": "code",
   "execution_count": 58,
   "metadata": {
    "collapsed": false
   },
   "outputs": [
    {
     "data": {
      "image/png": "[encoded data removed]",
      "text/plain": [
       "<matplotlib.figure.Figure at 0x7f1cc57f0910>"
      ]
     },
     "metadata": {},
     "output_type": "display_data"
    }
   ],
   "source": [
    "x = np.arange(0.5, 5.5, 0.1)\n",
    "y = np.exp(-x)\n",
    "fig = plt.figure()\n",
    "plt.xlabel('$x$')\n",
    "plt.ylabel('$f(x)$')\n",
    "plt.grid(True)\n",
    "plt.plot(x,y,x,0.1+y/2.0)\n",
    "plt.legend(['$e^{-x}$', '$0.5e^{-x} + 1$'])\n",
    "plt.savefig('foo.png')\n",
    "plt.show()"
   ]
  },
  {
   "cell_type": "markdown",
   "metadata": {},
   "source": [
    "## 4."
   ]
  },
  {
   "cell_type": "code",
   "execution_count": 65,
   "metadata": {
    "collapsed": false
   },
   "outputs": [
    {
     "data": {
      "image/png": "[encoded data removed]",
      "text/plain": [
       "<matplotlib.figure.Figure at 0x7f1cc5992dd0>"
      ]
     },
     "metadata": {},
     "output_type": "display_data"
    }
   ],
   "source": [
    "x = np.arange(0.5, 5.5, 0.1)\n",
    "y1 = x**2\n",
    "y2 = x**3\n",
    "y3 = np.exp(x)\n",
    "y4 = np.log(x)\n",
    "plt.figure(1)\n",
    "\n",
    "plt.subplot(221)\n",
    "plt.plot(x, y1)\n",
    "plt.title('$x^2$')\n",
    "plt.grid(True)\n",
    "\n",
    "plt.subplot(222)\n",
    "plt.plot(x, y2)\n",
    "plt.title('$x^3$')\n",
    "plt.grid(True)\n",
    "\n",
    "plt.subplot(223)\n",
    "plt.plot(x, y3)\n",
    "plt.title('$e^x$')\n",
    "plt.grid(True)\n",
    "\n",
    "plt.subplot(224)\n",
    "plt.plot(x, y4)\n",
    "plt.title('$lnx$')\n",
    "plt.grid(True)\n",
    "\n",
    "plt.show()"
   ]
  },
  {
   "cell_type": "markdown",
   "metadata": {
    "collapsed": true
   },
   "source": [
    "## 5."
   ]
  },
  {
   "cell_type": "code",
   "execution_count": 9,
   "metadata": {
    "collapsed": true
   },
   "outputs": [],
   "source": [
    "import numpy as np\n",
    "def f(x,y):\n",
    "    return 3*x*y + x - 2*y"
   ]
  },
  {
   "cell_type": "code",
   "execution_count": 10,
   "metadata": {
    "collapsed": true
   },
   "outputs": [],
   "source": [
    "x = np.arange(0.0, 5, 0.1)\n",
    "y = np.arange(0.0, 5, 0.1)\n"
   ]
  },
  {
   "cell_type": "code",
   "execution_count": 26,
   "metadata": {
    "collapsed": false
   },
   "outputs": [
    {
     "data": {
      "image/png": "[encoded data removed]",
      "text/plain": [
       "<matplotlib.figure.Figure at 0x7f6dc7ccba10>"
      ]
     },
     "metadata": {},
     "output_type": "display_data"
    }
   ],
   "source": [
    "import matplotlib.pyplot as plt\n",
    "from matplotlib.colors import BoundaryNorm\n",
    "from matplotlib.ticker import MaxNLocator\n",
    "import numpy as np\n",
    "\n",
    "\n",
    "dx, dy = 0.025, 0.025\n",
    "\n",
    "y, x = np.mgrid[slice(0, 5 + dy, dy),\n",
    "                slice(0, 5 + dx, dx)]\n",
    "\n",
    "z = 3*x*y + x - 2*y\n",
    "\n",
    "z = z[:-1, :-1]\n",
    "levels = MaxNLocator(nbins=100).tick_values(z.min(), z.max())\n",
    "\n",
    "cmap = plt.get_cmap('seismic')\n",
    "norm = BoundaryNorm(levels, ncolors=cmap.N, clip=True)\n",
    "\n",
    "fig, (ax0) = plt.subplots(nrows=1)\n",
    "\n",
    "im = ax0.pcolormesh(x, y, z, cmap=cmap, norm=norm)\n",
    "fig.colorbar(im, ax=ax0)\n",
    "ax0.set_title('levels')\n",
    "\n",
    "plt.show()"
   ]
  },
  {
   "cell_type": "markdown",
   "metadata": {},
   "source": [
    "## 6."
   ]
  },
  {
   "cell_type": "code",
   "execution_count": 42,
   "metadata": {
    "collapsed": false
   },
   "outputs": [
    {
     "data": {
      "image/png": "[encoded data removed]",
      "text/plain": [
       "<matplotlib.figure.Figure at 0x7f6dc7f98910>"
      ]
     },
     "metadata": {},
     "output_type": "display_data"
    }
   ],
   "source": [
    "from mpl_toolkits.mplot3d import Axes3D\n",
    "from matplotlib import cm\n",
    "from matplotlib.ticker import LinearLocator, FormatStrFormatter\n",
    "import matplotlib.pyplot as plt\n",
    "import numpy as np\n",
    "\n",
    "fig = plt.figure()\n",
    "ax = fig.gca(projection='3d')\n",
    "x = np.arange(0, 5, 0.25)\n",
    "y = np.arange(0, 5, 0.25)\n",
    "x, y = np.meshgrid(x, y)\n",
    "z = 3*x*y + x - 2*y\n",
    "surf = ax.plot_surface(x, y, z, rstride=1, cstride=1, cmap=cm.coolwarm,\n",
    "                       linewidth=0, antialiased=False)\n",
    "ax.set_zlim(-10.01, 62)\n",
    "\n",
    "ax.zaxis.set_major_locator(LinearLocator(10))\n",
    "ax.zaxis.set_major_formatter(FormatStrFormatter('%.02f'))\n",
    "\n",
    "fig.colorbar(surf, shrink=0.5, aspect=5)\n",
    "\n",
    "plt.show()"
   ]
  },
  {
   "cell_type": "markdown",
   "metadata": {},
   "source": [
    "# 5 Всё вместе + SciPy"
   ]
  },
  {
   "cell_type": "code",
   "execution_count": 147,
   "metadata": {
    "collapsed": false
   },
   "outputs": [
    {
     "name": "stdout",
     "output_type": "stream",
     "text": [
      "[array([-2787.4800293]), array([ 0.53518373]), array([ 0.53518375]), array([ 0.53518371]), array([ 0.53518462]), array([ 0.53518369]), array([ 0.53518375])] \n",
      "\n",
      "[array([-1.86851709]), array([-1.86851708]), array([-1.86851738]), array([-1.86851709]), array([-1.86851711]), array([-1.86851711]), array([ 2171.68006592])]\n"
     ]
    }
   ],
   "source": [
    "from scipy.optimize import minimize\n",
    "from scipy.optimize import curve_fit\n",
    "x = np.arange(-2.5,1,0.01)\n",
    "y = (x**3 + 2*x**2 -3*x + 2) + 0.1*np.random.randn(len(x))\n",
    "def f(x,a,b,c,d):\n",
    "    return a*x**3 + b*x**2 -c*x + d\n",
    "points = np.arange(-2.2,1,0.5)\n",
    "minimiz = [minimize(lambda x :(x**3 + 2*x**2 -3*x + 2),p,method='BFGS').x for p in points]\n",
    "maximize = [minimize(lambda x :-(x**3 + 2*x**2 -3*x + 2),p,method='BFGS').x for p in points]\n",
    "print minimiz,'\\n'\n",
    "print maximize"
   ]
  },
  {
   "cell_type": "code",
   "execution_count": 148,
   "metadata": {
    "collapsed": true
   },
   "outputs": [],
   "source": [
    "mini = 0.53518375\n",
    "maxi = -1.86851738"
   ]
  },
  {
   "cell_type": "code",
   "execution_count": 149,
   "metadata": {
    "collapsed": false
   },
   "outputs": [
    {
     "name": "stdout",
     "output_type": "stream",
     "text": [
      "[ 1.00158088  2.00220363  3.00618599  1.99054704]\n"
     ]
    }
   ],
   "source": [
    "popt, pcov = curve_fit(f, x, y)\n",
    "c = popt\n",
    "print c\n",
    "\n",
    "y_fitted = f(x,c[0],c[1],c[2],c[3])"
   ]
  },
  {
   "cell_type": "code",
   "execution_count": 151,
   "metadata": {
    "collapsed": false
   },
   "outputs": [
    {
     "data": {
      "image/png": "[encoded data removed]",
      "text/plain": [
       "<matplotlib.figure.Figure at 0x7f6db915fb10>"
      ]
     },
     "metadata": {},
     "output_type": "display_data"
    }
   ],
   "source": [
    "fc = lambda x :(x**3 + 2*x**2 -3*x + 2)\n",
    "plt.plot(x, y,x,f(x,c[0],c[1],c[2],c[3]),x, x**3 + 2*x**2 -3*x + 2,mini,fc(mini),maxi,fc(maxi))\n",
    "plt.legend(['$Noisy$', '$Fitted$', '$Original$','$Min$','$Max$'])\n",
    "plt.show()"
   ]
  },
  {
   "cell_type": "code",
   "execution_count": null,
   "metadata": {
    "collapsed": true
   },
   "outputs": [],
   "source": []
  }
 ],
 "metadata": {
  "kernelspec": {
   "display_name": "Python 2",
   "language": "python",
   "name": "python2"
  },
  "language_info": {
   "codemirror_mode": {
    "name": "ipython",
    "version": 2
   },
   "file_extension": ".py",
   "mimetype": "text/x-python",
   "name": "python",
   "nbconvert_exporter": "python",
   "pygments_lexer": "ipython2",
   "version": "2.7.11"
  }
 },
 "nbformat": 4,
 "nbformat_minor": 0
}
