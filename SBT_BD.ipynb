{
 "cells": [
  {
   "cell_type": "markdown",
   "metadata": {},
   "source": [
    "## Checkpoint 2"
   ]
  },
  {
   "cell_type": "code",
   "execution_count": 79,
   "metadata": {
    "collapsed": true
   },
   "outputs": [],
   "source": [
    "from sklearn \n",
    "import cross_validation, ensemble, grid_search, linear_model, metrics, pipeline, preprocessing\n",
    "import pandas as pd\n",
    "import numpy as np\n",
    "import matplotlib.pyplot as plt\n",
    "from sklearn.preprocessing import MultiLabelBinarizer\n",
    "import xgboost as xgb\n",
    "%matplotlib inline"
   ]
  },
  {
   "cell_type": "code",
   "execution_count": 2,
   "metadata": {
    "collapsed": false,
    "scrolled": true
   },
   "outputs": [],
   "source": [
    "data = pd.read_csv('lar_flat.csv', header=0)"
   ]
  },
  {
   "cell_type": "code",
   "execution_count": 3,
   "metadata": {
    "collapsed": false
   },
   "outputs": [
    {
     "data": {
      "text/plain": [
       "['loan_type',\n",
       " 'loan_purpose',\n",
       " 'preapproval',\n",
       " 'county_code',\n",
       " 'applicant_ethnicity',\n",
       " 'applicant_race_1',\n",
       " 'applicant_sex',\n",
       " 'lien_status']"
      ]
     },
     "execution_count": 3,
     "metadata": {},
     "output_type": "execute_result"
    }
   ],
   "source": [
    "categorical =[\n",
    "     'loan_type',\n",
    "     'loan_purpose',\n",
    "     'preapproval',\n",
    "     'action_type',\n",
    "     'county_code',\n",
    "     'applicant_ethnicity',\n",
    "     'applicant_race_1',\n",
    "     'applicant_sex',\n",
    "     'lien_status']\n",
    "categorical\n",
    "categorical.remove( 'action_type')\n",
    "categorical"
   ]
  },
  {
   "cell_type": "markdown",
   "metadata": {},
   "source": [
    "## 5., 8. remove: income ,Tract_To_MSAMD_Income_pct, Minority_Population_pct = NA"
   ]
  },
  {
   "cell_type": "code",
   "execution_count": 4,
   "metadata": {
    "collapsed": false
   },
   "outputs": [],
   "source": [
    "data = data[data.applicant_income_ink != 'NA  ']\n",
    "data = data[data.tract_to_msamd_income_pct != 'NA    ']\n",
    "data = data[data.minority_population_pct != 'NA    ']\n",
    "data=data[data.lien_status != '']\n",
    "\n",
    "numerical = [x for x in data.columns.values if x not in categorical][1:]\n",
    "numerical.remove('rate_spread')\n",
    "numerical\n",
    "numerical.remove('action_type')\n"
   ]
  },
  {
   "cell_type": "markdown",
   "metadata": {},
   "source": [
    "## rate_spread only 219 non-ambigous records, so will be removed for now"
   ]
  },
  {
   "cell_type": "code",
   "execution_count": 5,
   "metadata": {
    "collapsed": false
   },
   "outputs": [],
   "source": [
    "test = data[data.rate_spread != 'NA   '].rate_spread\n",
    "test.size\n",
    "data = data.drop(['rate_spread'], axis=1)\n",
    "data = data.drop(['Unnamed: 0'], axis=1)"
   ]
  },
  {
   "cell_type": "markdown",
   "metadata": {},
   "source": [
    "## now we have our data preprocessed"
   ]
  },
  {
   "cell_type": "markdown",
   "metadata": {},
   "source": [
    "# Categirical data values\n",
    "#### action_type: 'Withdrawn', 'Denied', 'Approved Not Accepted', 'Originated'\n",
    "#### loan_type: 'Conventional', 'FHA', 'VA', 'FSA.RHS'\n",
    "#### loan_purpose: 'Refinancing', 'Home improvement', 'Home purchase'\n",
    "#### preapproval: 'Not applicable', 'Not requested', 'Requested'\n",
    "#### country_code: '20', '170', '020', '090', '110', '122', '220', '150', '100', '130','261', '280', '240','201', '164', '230', '188', '180', '068','013', '290', '050', '185', '070', '060', '105', '016', '282', '270'\n",
    "#### applicant_ethnicity: 'Non Hispanic.Latino', 'No Info', 'Hispanic.Latino'\n",
    "#### plicant_race_1: 'White', 'Asian', 'No Info', 'AmerInd.AlaskaNat','Hawaiian.PacificIs', 'Black.AfroAmer'\n",
    "#### applicant_sex: 'Male', 'Female', 'No Info'\n",
    "#### lien_status: 'First lien', 'Subordinate lien', 'No lien'"
   ]
  },
  {
   "cell_type": "markdown",
   "metadata": {},
   "source": [
    "# Model"
   ]
  },
  {
   "cell_type": "code",
   "execution_count": 6,
   "metadata": {
    "collapsed": false
   },
   "outputs": [],
   "source": [
    "#10% for the test\n",
    "# factor = np.random.rand(len(data)) < 0.9\n",
    "# train = data[factor]\n",
    "# test = data[~factor]\n",
    "# train_labels = train.action_type.values\n",
    "# test_labels = test.action_type.values\n",
    "\n",
    "# one_hot = pd.get_dummies(train_labels)\n",
    "# type(one_hot)\n",
    "\n",
    "# train_data = train.drop(['action_type'],axis = 1)\n",
    "# test_data = test.drop(['action_type'],axis = 1)"
   ]
  },
  {
   "cell_type": "code",
   "execution_count": 7,
   "metadata": {
    "collapsed": false
   },
   "outputs": [],
   "source": [
    "data_categorical = data[categorical]\n",
    "data_numerical = data[numerical]\n",
    "labels = data[['action_type']]\n"
   ]
  },
  {
   "cell_type": "code",
   "execution_count": 8,
   "metadata": {
    "collapsed": false
   },
   "outputs": [
    {
     "name": "stderr",
     "output_type": "stream",
     "text": [
      "/home/uri/anaconda2/lib/python2.7/site-packages/ipykernel/__main__.py:4: SettingWithCopyWarning: \n",
      "A value is trying to be set on a copy of a slice from a DataFrame.\n",
      "Try using .loc[row_indexer,col_indexer] = value instead\n",
      "\n",
      "See the caveats in the documentation: http://pandas.pydata.org/pandas-docs/stable/indexing.html#indexing-view-versus-copy\n",
      "/home/uri/anaconda2/lib/python2.7/site-packages/pandas/core/indexing.py:465: SettingWithCopyWarning: \n",
      "A value is trying to be set on a copy of a slice from a DataFrame.\n",
      "Try using .loc[row_indexer,col_indexer] = value instead\n",
      "\n",
      "See the caveats in the documentation: http://pandas.pydata.org/pandas-docs/stable/indexing.html#indexing-view-versus-copy\n",
      "  self.obj[item] = s\n"
     ]
    }
   ],
   "source": [
    "for num in numerical:\n",
    "    scaler = preprocessing.StandardScaler(with_mean=0.0,with_std=1.0)\n",
    "    scaler.fit(data_numerical[[num]])\n",
    "    data_numerical[[num]] = scaler.transform(data_numerical[[num]])\n"
   ]
  },
  {
   "cell_type": "code",
   "execution_count": 9,
   "metadata": {
    "collapsed": false,
    "scrolled": false
   },
   "outputs": [
    {
     "name": "stderr",
     "output_type": "stream",
     "text": [
      "/home/uri/anaconda2/lib/python2.7/site-packages/sklearn/preprocessing/label.py:108: DataConversionWarning: A column-vector y was passed when a 1d array was expected. Please change the shape of y to (n_samples, ), for example using ravel().\n",
      "  y = column_or_1d(y, warn=True)\n",
      "/home/uri/anaconda2/lib/python2.7/site-packages/ipykernel/__main__.py:9: SettingWithCopyWarning: \n",
      "A value is trying to be set on a copy of a slice from a DataFrame.\n",
      "Try using .loc[row_indexer,col_indexer] = value instead\n",
      "\n",
      "See the caveats in the documentation: http://pandas.pydata.org/pandas-docs/stable/indexing.html#indexing-view-versus-copy\n",
      "/home/uri/anaconda2/lib/python2.7/site-packages/pandas/core/frame.py:2382: SettingWithCopyWarning: \n",
      "A value is trying to be set on a copy of a slice from a DataFrame\n",
      "\n",
      "See the caveats in the documentation: http://pandas.pydata.org/pandas-docs/stable/indexing.html#indexing-view-versus-copy\n",
      "  self.ix._setitem_with_indexer((slice(None), indexer), value)\n",
      "/home/uri/anaconda2/lib/python2.7/site-packages/pandas/core/frame.py:2352: SettingWithCopyWarning: \n",
      "A value is trying to be set on a copy of a slice from a DataFrame\n",
      "\n",
      "See the caveats in the documentation: http://pandas.pydata.org/pandas-docs/stable/indexing.html#indexing-view-versus-copy\n",
      "  self._setitem_array(key, value)\n",
      "/home/uri/anaconda2/lib/python2.7/site-packages/sklearn/preprocessing/label.py:108: DataConversionWarning: A column-vector y was passed when a 1d array was expected. Please change the shape of y to (n_samples, ), for example using ravel().\n",
      "  y = column_or_1d(y, warn=True)\n",
      "/home/uri/anaconda2/lib/python2.7/site-packages/sklearn/preprocessing/label.py:108: DataConversionWarning: A column-vector y was passed when a 1d array was expected. Please change the shape of y to (n_samples, ), for example using ravel().\n",
      "  y = column_or_1d(y, warn=True)\n",
      "/home/uri/anaconda2/lib/python2.7/site-packages/sklearn/preprocessing/label.py:108: DataConversionWarning: A column-vector y was passed when a 1d array was expected. Please change the shape of y to (n_samples, ), for example using ravel().\n",
      "  y = column_or_1d(y, warn=True)\n",
      "/home/uri/anaconda2/lib/python2.7/site-packages/sklearn/preprocessing/label.py:108: DataConversionWarning: A column-vector y was passed when a 1d array was expected. Please change the shape of y to (n_samples, ), for example using ravel().\n",
      "  y = column_or_1d(y, warn=True)\n",
      "/home/uri/anaconda2/lib/python2.7/site-packages/sklearn/preprocessing/label.py:108: DataConversionWarning: A column-vector y was passed when a 1d array was expected. Please change the shape of y to (n_samples, ), for example using ravel().\n",
      "  y = column_or_1d(y, warn=True)\n",
      "/home/uri/anaconda2/lib/python2.7/site-packages/sklearn/preprocessing/label.py:108: DataConversionWarning: A column-vector y was passed when a 1d array was expected. Please change the shape of y to (n_samples, ), for example using ravel().\n",
      "  y = column_or_1d(y, warn=True)\n",
      "/home/uri/anaconda2/lib/python2.7/site-packages/sklearn/preprocessing/label.py:108: DataConversionWarning: A column-vector y was passed when a 1d array was expected. Please change the shape of y to (n_samples, ), for example using ravel().\n",
      "  y = column_or_1d(y, warn=True)\n"
     ]
    }
   ],
   "source": [
    "# encoder = preprocessing.LabelEncoder()\n",
    "# encoder.fit(train_data_categorical)\n",
    "# X_train_categorical = encoder.transform(train_data_categorical)\n",
    "# X_test_categorical = encoder.transform(test_data_categorical)\n",
    "\n",
    "for category in categorical:\n",
    "    encoder = preprocessing.LabelEncoder()\n",
    "    encoder.fit(data_categorical[[category]])\n",
    "    data_categorical[[category]] = encoder.transform(data_categorical[[category]])\n"
   ]
  },
  {
   "cell_type": "code",
   "execution_count": 10,
   "metadata": {
    "collapsed": false
   },
   "outputs": [
    {
     "data": {
      "text/html": [
       "<div>\n",
       "<table border=\"1\" class=\"dataframe\">\n",
       "  <thead>\n",
       "    <tr style=\"text-align: right;\">\n",
       "      <th></th>\n",
       "      <th>loan_type</th>\n",
       "      <th>loan_purpose</th>\n",
       "      <th>preapproval</th>\n",
       "      <th>county_code</th>\n",
       "      <th>applicant_ethnicity</th>\n",
       "      <th>applicant_race_1</th>\n",
       "      <th>applicant_sex</th>\n",
       "      <th>lien_status</th>\n",
       "    </tr>\n",
       "  </thead>\n",
       "  <tbody>\n",
       "    <tr>\n",
       "      <th>0</th>\n",
       "      <td>0</td>\n",
       "      <td>2</td>\n",
       "      <td>0</td>\n",
       "      <td>19</td>\n",
       "      <td>2</td>\n",
       "      <td>5</td>\n",
       "      <td>1</td>\n",
       "      <td>0</td>\n",
       "    </tr>\n",
       "    <tr>\n",
       "      <th>1</th>\n",
       "      <td>0</td>\n",
       "      <td>2</td>\n",
       "      <td>0</td>\n",
       "      <td>19</td>\n",
       "      <td>2</td>\n",
       "      <td>5</td>\n",
       "      <td>1</td>\n",
       "      <td>0</td>\n",
       "    </tr>\n",
       "    <tr>\n",
       "      <th>2</th>\n",
       "      <td>0</td>\n",
       "      <td>2</td>\n",
       "      <td>0</td>\n",
       "      <td>15</td>\n",
       "      <td>2</td>\n",
       "      <td>5</td>\n",
       "      <td>1</td>\n",
       "      <td>0</td>\n",
       "    </tr>\n",
       "    <tr>\n",
       "      <th>3</th>\n",
       "      <td>0</td>\n",
       "      <td>2</td>\n",
       "      <td>0</td>\n",
       "      <td>19</td>\n",
       "      <td>2</td>\n",
       "      <td>5</td>\n",
       "      <td>1</td>\n",
       "      <td>0</td>\n",
       "    </tr>\n",
       "    <tr>\n",
       "      <th>4</th>\n",
       "      <td>0</td>\n",
       "      <td>2</td>\n",
       "      <td>0</td>\n",
       "      <td>15</td>\n",
       "      <td>2</td>\n",
       "      <td>5</td>\n",
       "      <td>1</td>\n",
       "      <td>0</td>\n",
       "    </tr>\n",
       "  </tbody>\n",
       "</table>\n",
       "</div>"
      ],
      "text/plain": [
       "   loan_type  loan_purpose  preapproval  county_code  applicant_ethnicity  \\\n",
       "0          0             2            0           19                    2   \n",
       "1          0             2            0           19                    2   \n",
       "2          0             2            0           15                    2   \n",
       "3          0             2            0           19                    2   \n",
       "4          0             2            0           15                    2   \n",
       "\n",
       "   applicant_race_1  applicant_sex  lien_status  \n",
       "0                 5              1            0  \n",
       "1                 5              1            0  \n",
       "2                 5              1            0  \n",
       "3                 5              1            0  \n",
       "4                 5              1            0  "
      ]
     },
     "execution_count": 10,
     "metadata": {},
     "output_type": "execute_result"
    }
   ],
   "source": [
    "data_categorical.head()"
   ]
  },
  {
   "cell_type": "code",
   "execution_count": 11,
   "metadata": {
    "collapsed": false
   },
   "outputs": [
    {
     "name": "stderr",
     "output_type": "stream",
     "text": [
      "/home/uri/anaconda2/lib/python2.7/site-packages/sklearn/preprocessing/label.py:125: DataConversionWarning: A column-vector y was passed when a 1d array was expected. Please change the shape of y to (n_samples, ), for example using ravel().\n",
      "  y = column_or_1d(y, warn=True)\n"
     ]
    }
   ],
   "source": [
    "# encoder = preprocessing.LabelEncoder()\n",
    "# encoder.fit_transform(test_labels_categorical)\n",
    "# encoder.fit_transform(test_labels_numerical)\n",
    "encoder = preprocessing.LabelEncoder()\n",
    "labels = encoder.fit_transform(labels)"
   ]
  },
  {
   "cell_type": "code",
   "execution_count": 12,
   "metadata": {
    "collapsed": false,
    "scrolled": true
   },
   "outputs": [
    {
     "data": {
      "text/html": [
       "<div>\n",
       "<table border=\"1\" class=\"dataframe\">\n",
       "  <thead>\n",
       "    <tr style=\"text-align: right;\">\n",
       "      <th></th>\n",
       "      <th>loan_type</th>\n",
       "      <th>loan_purpose</th>\n",
       "      <th>loan_amount_ink</th>\n",
       "      <th>preapproval</th>\n",
       "      <th>county_code</th>\n",
       "      <th>applicant_ethnicity</th>\n",
       "      <th>co_applicant_ethnicity</th>\n",
       "      <th>applicant_race_1</th>\n",
       "      <th>applicant_sex</th>\n",
       "      <th>applicant_income_ink</th>\n",
       "      <th>hoepa_status</th>\n",
       "      <th>lien_status</th>\n",
       "      <th>minority_population_pct</th>\n",
       "      <th>hud_median_family_income</th>\n",
       "      <th>tract_to_msamd_income_pct</th>\n",
       "      <th>number_of_owner_occupied_units</th>\n",
       "    </tr>\n",
       "  </thead>\n",
       "  <tbody>\n",
       "    <tr>\n",
       "      <th>0</th>\n",
       "      <td>0</td>\n",
       "      <td>2</td>\n",
       "      <td>1.610946</td>\n",
       "      <td>0</td>\n",
       "      <td>19</td>\n",
       "      <td>2</td>\n",
       "      <td>3.399021</td>\n",
       "      <td>5</td>\n",
       "      <td>1</td>\n",
       "      <td>1.005958</td>\n",
       "      <td>323.833291</td>\n",
       "      <td>0</td>\n",
       "      <td>2.632645</td>\n",
       "      <td>17.15497</td>\n",
       "      <td>3.619933</td>\n",
       "      <td>1.061290</td>\n",
       "    </tr>\n",
       "    <tr>\n",
       "      <th>1</th>\n",
       "      <td>0</td>\n",
       "      <td>2</td>\n",
       "      <td>1.061964</td>\n",
       "      <td>0</td>\n",
       "      <td>19</td>\n",
       "      <td>2</td>\n",
       "      <td>1.359608</td>\n",
       "      <td>5</td>\n",
       "      <td>1</td>\n",
       "      <td>1.297686</td>\n",
       "      <td>323.833291</td>\n",
       "      <td>0</td>\n",
       "      <td>1.104669</td>\n",
       "      <td>17.15497</td>\n",
       "      <td>4.486749</td>\n",
       "      <td>2.439991</td>\n",
       "    </tr>\n",
       "    <tr>\n",
       "      <th>2</th>\n",
       "      <td>0</td>\n",
       "      <td>2</td>\n",
       "      <td>1.601946</td>\n",
       "      <td>0</td>\n",
       "      <td>15</td>\n",
       "      <td>2</td>\n",
       "      <td>1.359608</td>\n",
       "      <td>5</td>\n",
       "      <td>1</td>\n",
       "      <td>1.327865</td>\n",
       "      <td>323.833291</td>\n",
       "      <td>0</td>\n",
       "      <td>1.319718</td>\n",
       "      <td>17.15497</td>\n",
       "      <td>3.614508</td>\n",
       "      <td>2.547423</td>\n",
       "    </tr>\n",
       "    <tr>\n",
       "      <th>3</th>\n",
       "      <td>0</td>\n",
       "      <td>2</td>\n",
       "      <td>0.683977</td>\n",
       "      <td>0</td>\n",
       "      <td>19</td>\n",
       "      <td>2</td>\n",
       "      <td>1.359608</td>\n",
       "      <td>5</td>\n",
       "      <td>1</td>\n",
       "      <td>1.317805</td>\n",
       "      <td>323.833291</td>\n",
       "      <td>0</td>\n",
       "      <td>1.111460</td>\n",
       "      <td>17.15497</td>\n",
       "      <td>5.257854</td>\n",
       "      <td>2.820884</td>\n",
       "    </tr>\n",
       "    <tr>\n",
       "      <th>4</th>\n",
       "      <td>0</td>\n",
       "      <td>2</td>\n",
       "      <td>1.196960</td>\n",
       "      <td>0</td>\n",
       "      <td>15</td>\n",
       "      <td>2</td>\n",
       "      <td>1.359608</td>\n",
       "      <td>5</td>\n",
       "      <td>1</td>\n",
       "      <td>0.754469</td>\n",
       "      <td>323.833291</td>\n",
       "      <td>0</td>\n",
       "      <td>0.917540</td>\n",
       "      <td>17.15497</td>\n",
       "      <td>4.131033</td>\n",
       "      <td>3.926124</td>\n",
       "    </tr>\n",
       "  </tbody>\n",
       "</table>\n",
       "</div>"
      ],
      "text/plain": [
       "   loan_type  loan_purpose  loan_amount_ink  preapproval  county_code  \\\n",
       "0          0             2         1.610946            0           19   \n",
       "1          0             2         1.061964            0           19   \n",
       "2          0             2         1.601946            0           15   \n",
       "3          0             2         0.683977            0           19   \n",
       "4          0             2         1.196960            0           15   \n",
       "\n",
       "   applicant_ethnicity  co_applicant_ethnicity  applicant_race_1  \\\n",
       "0                    2                3.399021                 5   \n",
       "1                    2                1.359608                 5   \n",
       "2                    2                1.359608                 5   \n",
       "3                    2                1.359608                 5   \n",
       "4                    2                1.359608                 5   \n",
       "\n",
       "   applicant_sex  applicant_income_ink  hoepa_status  lien_status  \\\n",
       "0              1              1.005958    323.833291            0   \n",
       "1              1              1.297686    323.833291            0   \n",
       "2              1              1.327865    323.833291            0   \n",
       "3              1              1.317805    323.833291            0   \n",
       "4              1              0.754469    323.833291            0   \n",
       "\n",
       "   minority_population_pct  hud_median_family_income  \\\n",
       "0                 2.632645                  17.15497   \n",
       "1                 1.104669                  17.15497   \n",
       "2                 1.319718                  17.15497   \n",
       "3                 1.111460                  17.15497   \n",
       "4                 0.917540                  17.15497   \n",
       "\n",
       "   tract_to_msamd_income_pct  number_of_owner_occupied_units  \n",
       "0                   3.619933                        1.061290  \n",
       "1                   4.486749                        2.439991  \n",
       "2                   3.614508                        2.547423  \n",
       "3                   5.257854                        2.820884  \n",
       "4                   4.131033                        3.926124  "
      ]
     },
     "execution_count": 12,
     "metadata": {},
     "output_type": "execute_result"
    }
   ],
   "source": [
    "data[numerical] = data_numerical[numerical]\n",
    "data[categorical] = data_categorical[categorical]\n",
    "data = data.drop('action_type',axis=1)\n",
    "data.head()"
   ]
  },
  {
   "cell_type": "code",
   "execution_count": 13,
   "metadata": {
    "collapsed": false
   },
   "outputs": [
    {
     "name": "stdout",
     "output_type": "stream",
     "text": [
      "<type 'numpy.ndarray'>\n"
     ]
    }
   ],
   "source": [
    "print type(labels)"
   ]
  },
  {
   "cell_type": "code",
   "execution_count": 14,
   "metadata": {
    "collapsed": false
   },
   "outputs": [],
   "source": [
    "train = data.iloc[:-2000]\n",
    "test = data.iloc[-2000:]\n",
    "\n",
    "train_labels = labels[:-2000]\n",
    "test_labels = labels[-2000:]"
   ]
  },
  {
   "cell_type": "code",
   "execution_count": 84,
   "metadata": {
    "collapsed": false
   },
   "outputs": [
    {
     "data": {
      "text/plain": [
       "RandomForestClassifier(bootstrap=True, class_weight=None, criterion='gini',\n",
       "            max_depth=8, max_features='auto', max_leaf_nodes=None,\n",
       "            min_samples_leaf=1, min_samples_split=2,\n",
       "            min_weight_fraction_leaf=0.0, n_estimators=183, n_jobs=-1,\n",
       "            oob_score=False, random_state=777, verbose=0, warm_start=False)"
      ]
     },
     "execution_count": 84,
     "metadata": {},
     "output_type": "execute_result"
    }
   ],
   "source": [
    "model = ensemble.RandomForestClassifier(random_state=777,\n",
    "                                        max_depth=8,\n",
    "                                        criterion='gini',\n",
    "                                        n_estimators=183,\n",
    "                                        n_jobs=-1)\n",
    "model.fit(train,train_labels)"
   ]
  },
  {
   "cell_type": "markdown",
   "metadata": {},
   "source": [
    "## accuracy"
   ]
  },
  {
   "cell_type": "code",
   "execution_count": 85,
   "metadata": {
    "collapsed": false,
    "scrolled": true
   },
   "outputs": [
    {
     "name": "stdout",
     "output_type": "stream",
     "text": [
      "accuracy =  0.7295\n",
      "precision =  0.676493098813\n"
     ]
    }
   ],
   "source": [
    "print 'accuracy = ' ,metrics.accuracy_score(test_labels, model.predict(test))\n",
    "print 'precision = ', metrics.precision_score(test_labels, model.predict(test),average='weighted',labels=list(set(labels)))"
   ]
  },
  {
   "cell_type": "markdown",
   "metadata": {},
   "source": [
    "## grid search"
   ]
  },
  {
   "cell_type": "code",
   "execution_count": 86,
   "metadata": {
    "collapsed": false
   },
   "outputs": [
    {
     "data": {
      "text/plain": [
       "['warm_start',\n",
       " 'oob_score',\n",
       " 'n_jobs',\n",
       " 'verbose',\n",
       " 'max_leaf_nodes',\n",
       " 'bootstrap',\n",
       " 'min_samples_leaf',\n",
       " 'n_estimators',\n",
       " 'min_samples_split',\n",
       " 'min_weight_fraction_leaf',\n",
       " 'criterion',\n",
       " 'random_state',\n",
       " 'max_features',\n",
       " 'max_depth',\n",
       " 'class_weight']"
      ]
     },
     "execution_count": 86,
     "metadata": {},
     "output_type": "execute_result"
    }
   ],
   "source": [
    "model.get_params().keys()"
   ]
  },
  {
   "cell_type": "code",
   "execution_count": 87,
   "metadata": {
    "collapsed": false
   },
   "outputs": [],
   "source": [
    "grid_params = {\n",
    "   # 'model_fitting__loss' : ['hinge', 'log', 'squared_hinge', 'squared_loss'],\n",
    "    'n_estimators' : np.linspace(50, 200, num = 10,dtype='int'),\n",
    "    'max_depth': np.linspace(3,11,dtype='int')\n",
    "}"
   ]
  },
  {
   "cell_type": "code",
   "execution_count": 88,
   "metadata": {
    "collapsed": false
   },
   "outputs": [
    {
     "name": "stdout",
     "output_type": "stream",
     "text": [
      "0.549554013875\n",
      "{'n_estimators': 50, 'max_depth': 3}\n"
     ]
    }
   ],
   "source": [
    "randomized_grid = grid_search.RandomizedSearchCV(model, grid_params, scoring = 'accuracy',n_iter = 20)\n",
    "randomized_grid.fit(train, train_labels)\n",
    "print randomized_grid.best_score_\n",
    "print randomized_grid.best_params_"
   ]
  },
  {
   "cell_type": "code",
   "execution_count": 89,
   "metadata": {
    "collapsed": true
   },
   "outputs": [],
   "source": [
    "model = xgb.XGBClassifier(learning_rate =0.1, \n",
    "                         n_estimators=140, \n",
    "                         max_depth=5,\n",
    "                         min_child_weight=1, \n",
    "                         gamma=0,\n",
    "                         subsample=0.8, \n",
    "                         colsample_bytree=0.8,\n",
    "                         nthread=4, \n",
    "                         scale_pos_weight=1, \n",
    "                         seed=27)"
   ]
  },
  {
   "cell_type": "code",
   "execution_count": 90,
   "metadata": {
    "collapsed": false
   },
   "outputs": [
    {
     "data": {
      "text/plain": [
       "XGBClassifier(base_score=0.5, colsample_bylevel=1, colsample_bytree=0.8,\n",
       "       gamma=0, learning_rate=0.1, max_delta_step=0, max_depth=5,\n",
       "       min_child_weight=1, missing=None, n_estimators=140, nthread=4,\n",
       "       objective='multi:softprob', reg_alpha=0, reg_lambda=1,\n",
       "       scale_pos_weight=1, seed=27, silent=True, subsample=0.8)"
      ]
     },
     "execution_count": 90,
     "metadata": {},
     "output_type": "execute_result"
    }
   ],
   "source": [
    "model.fit(train, train_labels)"
   ]
  },
  {
   "cell_type": "code",
   "execution_count": 92,
   "metadata": {
    "collapsed": false
   },
   "outputs": [
    {
     "name": "stdout",
     "output_type": "stream",
     "text": [
      "accuracy =  0.4065\n",
      "precision =  0.535355908803\n"
     ]
    }
   ],
   "source": [
    "print 'accuracy = ' ,metrics.accuracy_score(test_labels, model.predict(test))\n",
    "print 'precision = ', metrics.precision_score(test_labels, model.predict(test),average='weighted',labels=list(set(labels)))"
   ]
  },
  {
   "cell_type": "code",
   "execution_count": 93,
   "metadata": {
    "collapsed": false
   },
   "outputs": [
    {
     "data": {
      "text/plain": [
       "['reg_alpha',\n",
       " 'colsample_bytree',\n",
       " 'silent',\n",
       " 'colsample_bylevel',\n",
       " 'scale_pos_weight',\n",
       " 'learning_rate',\n",
       " 'missing',\n",
       " 'max_delta_step',\n",
       " 'nthread',\n",
       " 'base_score',\n",
       " 'n_estimators',\n",
       " 'subsample',\n",
       " 'reg_lambda',\n",
       " 'seed',\n",
       " 'min_child_weight',\n",
       " 'objective',\n",
       " 'max_depth',\n",
       " 'gamma']"
      ]
     },
     "execution_count": 93,
     "metadata": {},
     "output_type": "execute_result"
    }
   ],
   "source": [
    "model.get_params().keys()"
   ]
  },
  {
   "cell_type": "code",
   "execution_count": 114,
   "metadata": {
    "collapsed": true
   },
   "outputs": [],
   "source": [
    "grid_params = {\n",
    "   'subsample': [0.4,0.5,0.6,0.7,0.8],\n",
    "   'max_depth': np.linspace(2, 10),\n",
    "   'learning_rate': np.linspace(0.001, 0.07),\n",
    "    'n_estimators' : np.linspace(100,200,10,dtype=int)\n",
    "}"
   ]
  },
  {
   "cell_type": "code",
   "execution_count": null,
   "metadata": {
    "collapsed": false
   },
   "outputs": [],
   "source": [
    "gsearch = grid_search.GridSearchCV(model,grid_params,n_jobs=-1,cv=2)\n",
    "gsearch.fit(train, train_labels)\n"
   ]
  },
  {
   "cell_type": "code",
   "execution_count": 113,
   "metadata": {
    "collapsed": false
   },
   "outputs": [
    {
     "name": "stdout",
     "output_type": "stream",
     "text": [
      "0.650561612157\n",
      "{'subsample': 0.8, 'learning_rate': 0.05, 'max_depth': 1.0}\n"
     ]
    }
   ],
   "source": [
    "print gsearch.best_score_\n",
    "print gsearch.best_params_"
   ]
  },
  {
   "cell_type": "code",
   "execution_count": null,
   "metadata": {
    "collapsed": true
   },
   "outputs": [],
   "source": []
  }
 ],
 "metadata": {
  "kernelspec": {
   "display_name": "Python 2",
   "language": "python",
   "name": "python2"
  },
  "language_info": {
   "codemirror_mode": {
    "name": "ipython",
    "version": 2
   },
   "file_extension": ".py",
   "mimetype": "text/x-python",
   "name": "python",
   "nbconvert_exporter": "python",
   "pygments_lexer": "ipython2",
   "version": "2.7.11"
  }
 },
 "nbformat": 4,
 "nbformat_minor": 0
}
