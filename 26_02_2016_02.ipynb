{
 "cells": [
  {
   "cell_type": "markdown",
   "metadata": {},
   "source": [
    "# Quicksort"
   ]
  },
  {
   "cell_type": "code",
   "execution_count": 1,
   "metadata": {
    "collapsed": false
   },
   "outputs": [
    {
     "data": {
      "text/plain": [
       "[1, 3, 3, 5, 5, 6, 6, 7, 9]"
      ]
     },
     "execution_count": 1,
     "metadata": {},
     "output_type": "execute_result"
    }
   ],
   "source": [
    "array = [5, 6, 7, 3 ,5 ,1, 3 ,6 ,9]\n",
    "result = []\n",
    "def quicksort(array):\n",
    "    if len(array) <=1:\n",
    "        return array\n",
    "    initial =  array[0]\n",
    "    left = []\n",
    "    right = []\n",
    "    for item in array[1:]:\n",
    "        if item <= initial:\n",
    "            left.append(item)\n",
    "        else: right.append(item)\n",
    "   \n",
    "    return quicksort(left) + [initial] + quicksort(right)\n",
    "\n",
    "quicksort(array)\n",
    "    "
   ]
  },
  {
   "cell_type": "markdown",
   "metadata": {},
   "source": [
    "# FreqDict"
   ]
  },
  {
   "cell_type": "code",
   "execution_count": 2,
   "metadata": {
    "collapsed": false
   },
   "outputs": [
    {
     "name": "stdout",
     "output_type": "stream",
     "text": [
      "defaultdict(<type 'int'>, {'all': 1, 'below.': 1, 'syntax': 1, 'i/o': 1, 'facilities': 1, 'solutions': 1, 'frameworks),': 1, 'application': 1, 'programmers,': 1, 'platform-specifics': 1, 'distributed': 1, 'encourage': 1, 'to': 7, 'explicitly': 1, 'systems': 1, 'include': 2, 'python.': 1, 'python': 9, 'installers': 1, 'obtain': 1, 'programming.': 1, 'exact': 1, 'entire': 2, 'necessary': 1, 'manual': 1, 'language,': 1, 'these': 1, 'enhance': 1, 'often': 1, 'reference': 2, 'some': 3, 'library': 5, 'individual': 1, 'are': 2, 'provided': 2, 'for': 3, 'tools': 1, 'away': 1, 'distributions.python\\x92s': 1, 'access': 1, 'written': 1, 'available': 1, 'be': 2, 'index.': 1, 'standard': 4, 'components.': 1, 'operating': 2, 'packages': 1, 'optional': 2, 'by': 2, '(written': 1, 'language': 1, 'package': 1, 'many': 2, 'apis.the': 1, 'commonly': 1, 'range': 1, 'unix-like': 1, 'usually': 1, 'or': 1, 'otherwise': 1, 'there': 1, 'into': 1, 'packaging': 1, 'components.in': 1, 'table': 1, 'packages,': 1, 'use': 1, 'from': 1, 'additional': 1, 'would': 1, 'platform': 1, 'addition': 1, 'contains': 1, 'system': 2, 'long': 1, 'describes': 3, 'listed': 1, 'c)': 1, 'standardized': 1, 'offering': 1, 'that': 6, 'built-in': 1, 'thousand': 1, 'with': 2, 'semantics': 1, 'wide': 1, 'portability': 1, 'this': 1, 'while': 1, 'of': 9, 'growing': 1, 'extensive,': 1, 'and': 5, 'abstracting': 1, 'indicated': 1, 'modules': 4, 'is': 4, 'inaccessible': 1, 'it': 2, 'as': 5, 'file': 1, 'in': 4, 'occur': 1, 'contents': 1, 'platform-neutral': 1, 'provide': 2, 'everyday': 1, 'also': 2, 'functionality': 1, 'several': 1, 'development': 1, 'may': 1, 'problems': 1, 'collection': 2, 'designed': 1, 'included': 1, 'such': 1, 'a': 3, 'programs': 2, 'windows': 1, 'well': 1, '(from': 1, 'so': 1, 'components': 2, 'very': 1, 'the': 15, 'normally': 1, 'library,': 1})\n"
     ]
    }
   ],
   "source": [
    "from collections import defaultdict\n",
    "words = open('text.txt', 'r').read().lower().replace('\\n', '').split(' ')\n",
    "ddict = defaultdict(int)\n",
    "for word in words:\n",
    "    ddict[word] += 1\n",
    "print ddict"
   ]
  },
  {
   "cell_type": "markdown",
   "metadata": {},
   "source": [
    "# FreqDict"
   ]
  },
  {
   "cell_type": "code",
   "execution_count": 15,
   "metadata": {
    "collapsed": false
   },
   "outputs": [
    {
     "name": "stdout",
     "output_type": "stream",
     "text": [
      "{'all': 1, 'below.': 1, 'syntax': 1, 'i/o': 1, 'facilities': 1, 'solutions': 1, 'frameworks),': 1, 'application': 1, 'programmers,': 1, 'platform-specifics': 1, 'distributed': 1, 'encourage': 1, 'to': 7, 'explicitly': 1, 'systems': 1, 'include': 2, 'python.': 1, 'python': 9, 'installers': 1, 'obtain': 1, 'programming.': 1, 'exact': 1, 'entire': 2, 'necessary': 1, 'manual': 1, 'language,': 1, 'this': 1, 'enhance': 1, 'often': 1, 'reference': 2, 'some': 3, 'library': 5, 'individual': 1, 'are': 2, 'provided': 2, 'for': 3, 'tools': 1, 'away': 1, 'distributions.python\\x92s': 1, 'access': 1, 'written': 1, 'available': 1, 'be': 2, 'index.': 1, 'standard': 4, 'components.': 1, 'operating': 2, 'packages': 1, 'optional': 2, 'by': 2, '(written': 1, 'language': 1, 'package': 1, 'many': 2, 'apis.the': 1, 'commonly': 1, 'range': 1, 'unix-like': 1, 'usually': 1, 'or': 1, 'otherwise': 1, 'there': 1, 'into': 1, 'packaging': 1, 'components.in': 1, 'table': 1, 'packages,': 1, 'use': 1, 'from': 1, 'additional': 1, 'would': 1, 'platform': 1, 'addition': 1, 'contains': 1, 'system': 2, 'long': 1, 'describes': 3, 'listed': 1, 'c)': 1, 'standardized': 1, 'offering': 1, 'that': 6, 'built-in': 1, 'thousand': 1, 'with': 2, 'semantics': 1, 'wide': 1, 'portability': 1, 'these': 1, 'while': 1, 'of': 9, 'growing': 1, 'extensive,': 1, 'and': 5, 'abstracting': 1, 'indicated': 1, 'modules': 4, 'is': 4, 'inaccessible': 1, 'it': 2, 'as': 5, 'file': 1, 'in': 4, 'occur': 1, 'contents': 1, 'platform-neutral': 1, 'provide': 2, 'everyday': 1, 'also': 2, 'functionality': 1, 'several': 1, 'development': 1, 'may': 1, 'problems': 1, 'collection': 2, 'designed': 1, 'included': 1, 'such': 1, 'a': 3, 'programs': 2, 'windows': 1, 'well': 1, '(from': 1, 'so': 1, 'components': 2, 'very': 1, 'the': 15, 'normally': 1, 'library,': 1}\n"
     ]
    }
   ],
   "source": [
    "from collections import defaultdict\n",
    "text = open('text.txt', 'r')\n",
    "\n",
    "class FreqDict(dict):\n",
    "    def __init__(self, text, **kw):\n",
    "        super(FreqDict, self).__init__(**kw)\n",
    "        self.text = text\n",
    "    @property\n",
    "    def count(self):\n",
    "        words = self.text.read().lower().replace('\\n', '').split(' ')\n",
    "        ddict = defaultdict(int)\n",
    "        for word in words:\n",
    "            ddict[word] += 1\n",
    "        self.update(dict(ddict))\n",
    "        return self\n",
    "\n",
    "\n",
    "c = FreqDict(text).count\n",
    "# c[\"2\"] = 3\n",
    "print c"
   ]
  },
  {
   "cell_type": "markdown",
   "metadata": {},
   "source": [
    "\n",
    "# One-line quicksort"
   ]
  },
  {
   "cell_type": "code",
   "execution_count": 23,
   "metadata": {
    "collapsed": false
   },
   "outputs": [
    {
     "name": "stdout",
     "output_type": "stream",
     "text": [
      "[-7, 1, 3, 3, 5, 5, 6, 6, 9]\n"
     ]
    }
   ],
   "source": [
    "ar = [5, 6, -7, 3 ,5 ,1, 3 ,6 ,9]\n",
    "def qs(array):\n",
    "    if array: return qs([x for x in array if x<array[0]]) + [x for x in array if x==array[0]] + qs([x for x in array if x>array[0]])\n",
    "    return []\n",
    "print qs(array)\n",
    "\n"
   ]
  }
 ],
 "metadata": {
  "kernelspec": {
   "display_name": "Python 2",
   "language": "python",
   "name": "python2"
  },
  "language_info": {
   "codemirror_mode": {
    "name": "ipython",
    "version": 2
   },
   "file_extension": ".py",
   "mimetype": "text/x-python",
   "name": "python",
   "nbconvert_exporter": "python",
   "pygments_lexer": "ipython2",
   "version": "2.7.11"
  }
 },
 "nbformat": 4,
 "nbformat_minor": 0
}
