{
 "cells": [
  {
   "cell_type": "code",
   "execution_count": 1,
   "metadata": {
    "collapsed": true
   },
   "outputs": [],
   "source": [
    "from sklearn.datasets import load_boston\n"
   ]
  },
  {
   "cell_type": "code",
   "execution_count": 2,
   "metadata": {
    "collapsed": false
   },
   "outputs": [],
   "source": [
    "boston = load_boston()"
   ]
  },
  {
   "cell_type": "code",
   "execution_count": 3,
   "metadata": {
    "collapsed": false
   },
   "outputs": [],
   "source": [
    "data = boston.data\n",
    "target = boston.target\n"
   ]
  },
  {
   "cell_type": "code",
   "execution_count": 4,
   "metadata": {
    "collapsed": false
   },
   "outputs": [],
   "source": [
    "X_train = data[:3*len(data)/4]\n",
    "y_train = target[:3*len(data)/4]\n",
    "\n",
    "X_test = data[len(data)/4:]\n",
    "y_test = target[len(data)/4:]\n"
   ]
  },
  {
   "cell_type": "markdown",
   "metadata": {},
   "source": [
    "## Задание 1"
   ]
  },
  {
   "cell_type": "markdown",
   "metadata": {},
   "source": [
    "$$ -\\frac{\\partial L}{\\partial a(x)}= 2(y - a(x)) $$\n"
   ]
  },
  {
   "cell_type": "markdown",
   "metadata": {},
   "source": [
    "## Задание 2"
   ]
  },
  {
   "cell_type": "code",
   "execution_count": 37,
   "metadata": {
    "collapsed": false
   },
   "outputs": [],
   "source": [
    "from sklearn.tree import DecisionTreeRegressor\n",
    "from sklearn.metrics import mean_squared_error\n",
    "def gbm_predict(X):\n",
    "    return [sum([coeff * algo.predict([x])[0] for algo, coeff in zip(base_algorithms_list, coefficients_list)]) for x in X]"
   ]
  },
  {
   "cell_type": "code",
   "execution_count": 55,
   "metadata": {
    "collapsed": false
   },
   "outputs": [],
   "source": [
    "base_algorithms_list = []\n",
    "coefficients_list = [0.9]*50\n",
    "\n",
    "m = DecisionTreeRegressor(max_depth=5,random_state=42)\n",
    "m.fit(X_train, y_train)\n",
    "base_algorithms_list.append(m)\n",
    "\n",
    "for i in range(1,50):\n",
    "    model = DecisionTreeRegressor(max_depth=5,random_state=42)\n",
    "    model.fit(X_train , -(gbm_predict(X_train) - y_train))\n",
    "    base_algorithms_list.append(model)"
   ]
  },
  {
   "cell_type": "code",
   "execution_count": 60,
   "metadata": {
    "collapsed": false
   },
   "outputs": [
    {
     "name": "stdout",
     "output_type": "stream",
     "text": [
      "RMSE= 3.16610428983\n"
     ]
    }
   ],
   "source": [
    "print 'RMSE=', mean_squared_error(y_test, gbm_predict(X_test))**0.5"
   ]
  },
  {
   "cell_type": "markdown",
   "metadata": {},
   "source": [
    "## Задание 3"
   ]
  },
  {
   "cell_type": "code",
   "execution_count": 61,
   "metadata": {
    "collapsed": false
   },
   "outputs": [
    {
     "name": "stdout",
     "output_type": "stream",
     "text": [
      "RMSE= 2.89411602087\n"
     ]
    }
   ],
   "source": [
    "base_algorithms_list = []\n",
    "\n",
    "coefficients_list = []\n",
    "for i in range(50):\n",
    "    coefficients_list.append(0.9 / (1.0 + i))\n",
    "\n",
    "\n",
    "m = DecisionTreeRegressor(max_depth=5,random_state=42)\n",
    "m.fit(X_train, y_train)\n",
    "base_algorithms_list.append(m)\n",
    "\n",
    "for i in range(1,50):\n",
    "    model = DecisionTreeRegressor(max_depth=5,random_state=42)\n",
    "    model.fit(X_train , -(gbm_predict(X_train) - y_train))\n",
    "    base_algorithms_list.append(model)\n",
    "    \n",
    "print 'RMSE=', mean_squared_error(y_test, gbm_predict(X_test))**0.5"
   ]
  },
  {
   "cell_type": "markdown",
   "metadata": {},
   "source": [
    "## Задание 4\n",
    "## 1 - false 2- true"
   ]
  },
  {
   "cell_type": "code",
   "execution_count": 73,
   "metadata": {
    "collapsed": false
   },
   "outputs": [
    {
     "name": "stdout",
     "output_type": "stream",
     "text": [
      "RMSE= 5.75466939506\n",
      "RMSE= 3.19898294445\n",
      "RMSE= 2.86876748396\n",
      "RMSE= 2.69451302041\n",
      "RMSE= 2.60232857726\n",
      "RMSE= 2.51600819272\n"
     ]
    }
   ],
   "source": [
    "from sklearn.ensemble import GradientBoostingRegressor\n",
    "n = [10, 50, 100, 150 ,200 ,1000]\n",
    "for item in n:\n",
    "    model = GradientBoostingRegressor(n_estimators = item)\n",
    "    model.fit(X_train, y_train)\n",
    "    print 'RMSE=', mean_squared_error(y_test, model.predict(X_test))**0.5"
   ]
  },
  {
   "cell_type": "markdown",
   "metadata": {},
   "source": [
    "## 3 - , 4 - true"
   ]
  },
  {
   "cell_type": "code",
   "execution_count": 76,
   "metadata": {
    "collapsed": false
   },
   "outputs": [
    {
     "name": "stdout",
     "output_type": "stream",
     "text": [
      "RMSE= 3.22463633017\n",
      "RMSE= 2.74907149044\n",
      "RMSE= 2.80067083837\n",
      "RMSE= 2.86214610172\n",
      "RMSE= 3.55551512923\n",
      "RMSE= 3.33732914099\n",
      "RMSE= 3.36968385122\n",
      "RMSE= 3.34263670713\n",
      "RMSE= 3.35845929743\n",
      "RMSE= 3.23586500867\n",
      "RMSE= 3.39980660726\n",
      "RMSE= 3.44953797351\n",
      "RMSE= 3.39492845941\n",
      "RMSE= 3.36764438324\n"
     ]
    }
   ],
   "source": [
    "n = [2,3,4,5,10,15,20,40,60,100,200,300,500,1000]\n",
    "for item in n:\n",
    "    model = GradientBoostingRegressor(n_estimators = 150, max_depth=item)\n",
    "    model.fit(X_train, y_train)\n",
    "    print 'RMSE=', mean_squared_error(y_test, model.predict(X_test))**0.5"
   ]
  },
  {
   "cell_type": "markdown",
   "metadata": {},
   "source": [
    "## Задание 5"
   ]
  },
  {
   "cell_type": "code",
   "execution_count": 77,
   "metadata": {
    "collapsed": false
   },
   "outputs": [
    {
     "name": "stdout",
     "output_type": "stream",
     "text": [
      "RMSE= 6.40130745002\n"
     ]
    }
   ],
   "source": [
    "from sklearn.linear_model import LinearRegression \n",
    "lmodel = LinearRegression()\n",
    "lmodel.fit(X_train,y_train)\n",
    "print 'RMSE=', mean_squared_error(y_test, lmodel.predict(X_test))**0.5"
   ]
  },
  {
   "cell_type": "code",
   "execution_count": null,
   "metadata": {
    "collapsed": true
   },
   "outputs": [],
   "source": []
  }
 ],
 "metadata": {
  "kernelspec": {
   "display_name": "Python 2",
   "language": "python",
   "name": "python2"
  },
  "language_info": {
   "codemirror_mode": {
    "name": "ipython",
    "version": 2
   },
   "file_extension": ".py",
   "mimetype": "text/x-python",
   "name": "python",
   "nbconvert_exporter": "python",
   "pygments_lexer": "ipython2",
   "version": "2.7.11"
  }
 },
 "nbformat": 4,
 "nbformat_minor": 0
}
